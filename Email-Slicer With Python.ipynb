{
 "cells": [
  {
   "cell_type": "code",
   "execution_count": 1,
   "metadata": {},
   "outputs": [
    {
     "name": "stdout",
     "output_type": "stream",
     "text": [
      "Please Enter Your Email Address:example@gmail.com\n",
      "Username Is example & gmail.com Is The Domain Name\n",
      "Done Thanks!\n"
     ]
    }
   ],
   "source": [
    "try:\n",
    "    email = str(input('Please Enter Your Email Address:'))\n",
    "    slicer = email.split('@')\n",
    "    username= slicer[0]\n",
    "    domainName=slicer[1]\n",
    "except IndexError:\n",
    "    print('Oops!!!Enter A Valid Email')\n",
    "except Exception as ex:\n",
    "    print(ex)\n",
    "else:\n",
    "    print('Username Is {} & {} Is The Domain Name'.format(username, domainName))\n",
    "finally:\n",
    "    print('Done Thanks!')"
   ]
  },
  {
   "cell_type": "code",
   "execution_count": null,
   "metadata": {},
   "outputs": [],
   "source": []
  }
 ],
 "metadata": {
  "kernelspec": {
   "display_name": "Python 3",
   "language": "python",
   "name": "python3"
  },
  "language_info": {
   "codemirror_mode": {
    "name": "ipython",
    "version": 3
   },
   "file_extension": ".py",
   "mimetype": "text/x-python",
   "name": "python",
   "nbconvert_exporter": "python",
   "pygments_lexer": "ipython3",
   "version": "3.7.7"
  }
 },
 "nbformat": 4,
 "nbformat_minor": 4
}
